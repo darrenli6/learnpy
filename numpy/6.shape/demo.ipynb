{
 "cells": [
  {
   "cell_type": "code",
   "execution_count": 4,
   "metadata": {
    "collapsed": true
   },
   "outputs": [
    {
     "data": {
      "text/plain": "array([[3, 1, 9, 8, 6],\n       [1, 7, 6, 5, 9],\n       [9, 7, 1, 1, 7],\n       [9, 6, 7, 8, 1],\n       [5, 3, 5, 5, 6],\n       [3, 7, 6, 8, 8],\n       [1, 8, 7, 3, 9],\n       [7, 3, 2, 2, 6],\n       [8, 4, 4, 3, 3],\n       [7, 4, 8, 0, 9],\n       [0, 6, 7, 9, 6],\n       [2, 2, 5, 9, 3]])"
     },
     "execution_count": 4,
     "metadata": {},
     "output_type": "execute_result"
    }
   ],
   "source": [
    "import numpy as np\n",
    "arr1 = np.random.randint(0,10,size=(3,4,5))\n",
    "arr1\n",
    "arr2 = arr1.reshape(12,5)\n",
    "arr2"
   ]
  },
  {
   "cell_type": "code",
   "execution_count": 6,
   "outputs": [
    {
     "data": {
      "text/plain": "array([[5, 2, 5],\n       [9, 4, 3],\n       [6, 5, 9],\n       [3, 4, 2],\n       [8, 3, 9]])"
     },
     "execution_count": 6,
     "metadata": {},
     "output_type": "execute_result"
    }
   ],
   "source": [
    "# 数组转置\n",
    "arr1 =np.random.randint(0,10,size=(3,5))\n",
    "arr1.shape\n",
    "arr1.T\n",
    "\n"
   ],
   "metadata": {
    "collapsed": false
   }
  },
  {
   "cell_type": "code",
   "execution_count": 7,
   "outputs": [
    {
     "data": {
      "text/plain": "array([1, 2, 3, 2, 4, 5])"
     },
     "execution_count": 7,
     "metadata": {},
     "output_type": "execute_result"
    }
   ],
   "source": [
    "# 数组堆叠\n",
    "arr1 = np.array([1,2,3])\n",
    "arr2 = np.array([2,4,5])\n",
    "np.concatenate([arr1,arr2],axis=0)\n",
    "#axis表示第一维串联\n"
   ],
   "metadata": {
    "collapsed": false
   }
  },
  {
   "cell_type": "code",
   "execution_count": null,
   "outputs": [],
   "source": [],
   "metadata": {
    "collapsed": false
   }
  }
 ],
 "metadata": {
  "kernelspec": {
   "display_name": "Python 3",
   "language": "python",
   "name": "python3"
  },
  "language_info": {
   "codemirror_mode": {
    "name": "ipython",
    "version": 2
   },
   "file_extension": ".py",
   "mimetype": "text/x-python",
   "name": "python",
   "nbconvert_exporter": "python",
   "pygments_lexer": "ipython2",
   "version": "2.7.6"
  }
 },
 "nbformat": 4,
 "nbformat_minor": 0
}
