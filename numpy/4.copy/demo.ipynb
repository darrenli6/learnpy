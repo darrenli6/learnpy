{
 "cells": [
  {
   "cell_type": "code",
   "execution_count": 2,
   "metadata": {
    "collapsed": true
   },
   "outputs": [
    {
     "data": {
      "text/plain": "array([[1024,   39,    9,   53,   97],\n       [  82,   46,   70,   17,   20],\n       [  68,   10,   16,   39,   33],\n       [  47,   94,   59,   48,   84]])"
     },
     "metadata": {},
     "output_type": "display_data"
    },
    {
     "data": {
      "text/plain": "array([[1024,   39,    9,   53,   97],\n       [  82,   46,   70,   17,   20],\n       [  68,   10,   16,   39,   33],\n       [  47,   94,   59,   48,   84]])"
     },
     "metadata": {},
     "output_type": "display_data"
    }
   ],
   "source": [
    "import numpy as np\n",
    "a =np.random.randint(0,100,size=(4,5))\n",
    "b= a\n",
    "a is b\n",
    "# 返回true a 和b是两个不同名字对应一个内存对象\n",
    "b[0,0]= 1024\n",
    "display(a,b)"
   ]
  },
  {
   "cell_type": "code",
   "execution_count": 7,
   "outputs": [
    {
     "data": {
      "text/plain": "array([[1024,   49,   23,   70,    3],\n       [  44,   75,    6,   92,   48],\n       [  80,    8,   97,   49,    0],\n       [  22,   94,   16,   80,   46]])"
     },
     "metadata": {},
     "output_type": "display_data"
    },
    {
     "data": {
      "text/plain": "array([[1024,   49,   23,   70,    3],\n       [  44,   75,    6,   92,   48],\n       [  80,    8,   97,   49,    0],\n       [  22,   94,   16,   80,   46]])"
     },
     "metadata": {},
     "output_type": "display_data"
    }
   ],
   "source": [
    "# 查看或者浅拷贝\n",
    "a =np.random.randint(0,100,size=(4,5))\n",
    "b =a.view()  # 使用a中的数据创建一个新数组\n",
    "a is b# 返回False a和b是两个不同名字对应同一个内存对象\n",
    "b.base is a # 数据一样\n",
    "b.flags.owndata\n",
    "a.flags.owndata\n",
    "b[0,0]= 1024\n",
    "display(a,b)\n"
   ],
   "metadata": {
    "collapsed": false
   }
  },
  {
   "cell_type": "code",
   "execution_count": 8,
   "outputs": [
    {
     "data": {
      "text/plain": "array([[34, 39, 90, 19, 97],\n       [19, 15, 84, 91, 95],\n       [54, 69,  9, 47, 34],\n       [ 7, 31, 19, 45, 81]])"
     },
     "metadata": {},
     "output_type": "display_data"
    },
    {
     "data": {
      "text/plain": "array([[1024,   39,   90,   19,   97],\n       [  19,   15,   84,   91,   95],\n       [  54,   69,    9,   47,   34],\n       [   7,   31,   19,   45,   81]])"
     },
     "metadata": {},
     "output_type": "display_data"
    }
   ],
   "source": [
    "import numpy as np\n",
    "a = np.random.randint(0,100,size = (4,5))\n",
    "b = a.copy()\n",
    "b is a # 返回False\n",
    "b.base is a\n",
    "# 返回False\n",
    "b.flags.owndata\n",
    "# 返回True\n",
    "a.flags.owndata # 返回True\n",
    "b[0,0] = 1024 # b改变，a不变，分道扬镳\n",
    "display(a,b)"
   ],
   "metadata": {
    "collapsed": false
   }
  },
  {
   "cell_type": "code",
   "execution_count": null,
   "outputs": [],
   "source": [],
   "metadata": {
    "collapsed": false
   }
  }
 ],
 "metadata": {
  "kernelspec": {
   "display_name": "Python 3",
   "language": "python",
   "name": "python3"
  },
  "language_info": {
   "codemirror_mode": {
    "name": "ipython",
    "version": 2
   },
   "file_extension": ".py",
   "mimetype": "text/x-python",
   "name": "python",
   "nbconvert_exporter": "python",
   "pygments_lexer": "ipython2",
   "version": "2.7.6"
  }
 },
 "nbformat": 4,
 "nbformat_minor": 0
}
