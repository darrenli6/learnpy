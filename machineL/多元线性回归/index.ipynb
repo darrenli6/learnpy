{
 "cells": [
  {
   "cell_type": "code",
   "execution_count": 2,
   "metadata": {},
   "outputs": [
    {
     "data": {
      "text/plain": [
       "array([[  0,  14,   8,   0,   5,  -2,   9,  -3],\n",
       "       [ -4,  10,   6,   4, -14,  -2, -14,   8],\n",
       "       [ -1,  -6,   5, -12,   3,  -3,   2,  -2],\n",
       "       [  5,  -2,   3,  10,   5,  11,   4,  -8],\n",
       "       [-15, -15,  -8, -15,   7,  -4, -12,   2],\n",
       "       [ 11, -10,  -2,   4,   3,  -9,  -6,   7],\n",
       "       [-14,   0,   4,  -3,   5,  10,  13,   7],\n",
       "       [ -3,  -7,  -2,  -8,   0,  -6,  -5,  -9]])"
      ]
     },
     "metadata": {},
     "output_type": "display_data"
    },
    {
     "data": {
      "text/plain": [
       "array([ 339, -114,   30,  126, -395,  -87,  422, -309])"
      ]
     },
     "metadata": {},
     "output_type": "display_data"
    }
   ],
   "source": [
    "import numpy as np\n",
    "\n",
    "from sklearn.linear_model import LinearRegression\n",
    "X = np.array([[  0 ,14 , 8 ,  0 ,  5,  -2,   9,  -3],\n",
    " [ -4 , 10 ,  6 ,  4 ,-14 , -2 ,-14  , 8],\n",
    " [ -1 , -6  , 5 ,-12 ,  3 , -3 ,  2 , -2],\n",
    " [  5 , -2  , 3 , 10  , 5 , 11 ,  4  ,-8],\n",
    " [-15 ,-15  ,-8 ,-15 ,  7 , -4, -12 ,  2],\n",
    " [ 11 ,-10 , -2 ,  4  , 3 , -9 , -6 ,  7],\n",
    " [-14 ,  0 ,  4 , -3  , 5 , 10 , 13 ,  7],\n",
    " [ -3 , -7 , -2 , -8  , 0 , -6 , -5 , -9]])\n",
    "y = np.array([ 339 ,-114  , 30 , 126, -395 , -87 , 422, -309])\n",
    "display(X,y)"
   ]
  },
  {
   "cell_type": "code",
   "execution_count": 3,
   "metadata": {},
   "outputs": [
    {
     "data": {
      "text/plain": [
       "array([ 1.,  5., 15.,  3.,  8.,  4., 17., 12.])"
      ]
     },
     "execution_count": 3,
     "metadata": {},
     "output_type": "execute_result"
    }
   ],
   "source": [
    "np.linalg.inv(X.T.dot(X)).dot(X.T).dot(y)"
   ]
  },
  {
   "cell_type": "code",
   "execution_count": 4,
   "metadata": {},
   "outputs": [
    {
     "data": {
      "text/plain": [
       "array([ 1.,  5., 15.,  3.,  8.,  4., 17., 12.])"
      ]
     },
     "metadata": {},
     "output_type": "display_data"
    },
    {
     "data": {
      "text/plain": [
       "0.0"
      ]
     },
     "metadata": {},
     "output_type": "display_data"
    }
   ],
   "source": [
    "model = LinearRegression(fit_intercept=False)\n",
    "model.fit(X,y) # 训练\n",
    "display(model.coef_,model.intercept_)"
   ]
  },
  {
   "cell_type": "code",
   "execution_count": 5,
   "metadata": {},
   "outputs": [
    {
     "name": "stdout",
     "output_type": "stream",
     "text": [
      "截距是0： [ 339 -114   30  126 -395  -87  422 -309]\n",
      "增加了截距 [ 351 -102   42  138 -383  -75  434 -297]\n"
     ]
    }
   ],
   "source": [
    "print('截距是0：',y)\n",
    "y += 12\n",
    "print('增加了截距',y)\n",
    "\n"
   ]
  },
  {
   "cell_type": "markdown",
   "metadata": {},
   "source": [
    "$\\hat{y} = w_1X_1 + w_2X_2 + …… + w_nX_n + b$\n",
    "\n",
    "b 也是一个未知变量  \n",
    "需要进行方程求解\n",
    "\n",
    "$\\hat{y} = w_1X_1 + w_2X_2 + …… + w_nX_n + w_0 * 1$"
   ]
  },
  {
   "cell_type": "code",
   "execution_count": 6,
   "metadata": {},
   "outputs": [
    {
     "data": {
      "text/plain": [
       "array([[  0,  14,   8,   0,   5,  -2,   9,  -3,   1],\n",
       "       [ -4,  10,   6,   4, -14,  -2, -14,   8,   1],\n",
       "       [ -1,  -6,   5, -12,   3,  -3,   2,  -2,   1],\n",
       "       [  5,  -2,   3,  10,   5,  11,   4,  -8,   1],\n",
       "       [-15, -15,  -8, -15,   7,  -4, -12,   2,   1],\n",
       "       [ 11, -10,  -2,   4,   3,  -9,  -6,   7,   1],\n",
       "       [-14,   0,   4,  -3,   5,  10,  13,   7,   1],\n",
       "       [ -3,  -7,  -2,  -8,   0,  -6,  -5,  -9,   1]])"
      ]
     },
     "execution_count": 6,
     "metadata": {},
     "output_type": "execute_result"
    }
   ],
   "source": [
    "X = np.concatenate([X,np.full(shape = (8,1),fill_value=1)],axis = 1)\n",
    "X"
   ]
  },
  {
   "cell_type": "code",
   "execution_count": 7,
   "metadata": {},
   "outputs": [
    {
     "data": {
      "text/plain": [
       "(8, 9)"
      ]
     },
     "execution_count": 7,
     "metadata": {},
     "output_type": "execute_result"
    }
   ],
   "source": [
    "X.shape"
   ]
  },
  {
   "cell_type": "code",
   "execution_count": 8,
   "metadata": {},
   "outputs": [
    {
     "data": {
      "text/plain": [
       "array([  5,   8,  12, -15,  12,   4,  13,   2])"
      ]
     },
     "execution_count": 8,
     "metadata": {},
     "output_type": "execute_result"
    }
   ],
   "source": [
    "# 标准答案\n",
    "w = np.array([ 1.,  5., 15.,  3.,  8.,  4., 17., 12.])\n",
    "w\n",
    "X9 = np.random.randint(-15,15,size = 8)\n",
    "X9"
   ]
  },
  {
   "cell_type": "code",
   "execution_count": 9,
   "metadata": {},
   "outputs": [
    {
     "data": {
      "text/plain": [
       "549.0"
      ]
     },
     "execution_count": 9,
     "metadata": {},
     "output_type": "execute_result"
    }
   ],
   "source": [
    "X9.dot(w) + 12"
   ]
  },
  {
   "cell_type": "code",
   "execution_count": 10,
   "metadata": {},
   "outputs": [
    {
     "data": {
      "text/plain": [
       "array([ 351, -102,   42,  138, -383,  -75,  434, -297,  219])"
      ]
     },
     "execution_count": 10,
     "metadata": {},
     "output_type": "execute_result"
    }
   ],
   "source": [
    "y = np.concatenate([y,[219]])\n",
    "y"
   ]
  },
  {
   "cell_type": "code",
   "execution_count": 11,
   "metadata": {},
   "outputs": [
    {
     "data": {
      "text/plain": [
       "array([  5,   8,  12, -15,  12,   4,  13,   2,   1])"
      ]
     },
     "execution_count": 11,
     "metadata": {},
     "output_type": "execute_result"
    }
   ],
   "source": [
    "X9 = np.concatenate([X9,[1]])\n",
    "X9"
   ]
  },
  {
   "cell_type": "code",
   "execution_count": 12,
   "metadata": {},
   "outputs": [
    {
     "data": {
      "text/plain": [
       "array([[  0,  14,   8,   0,   5,  -2,   9,  -3,   1],\n",
       "       [ -4,  10,   6,   4, -14,  -2, -14,   8,   1],\n",
       "       [ -1,  -6,   5, -12,   3,  -3,   2,  -2,   1],\n",
       "       [  5,  -2,   3,  10,   5,  11,   4,  -8,   1],\n",
       "       [-15, -15,  -8, -15,   7,  -4, -12,   2,   1],\n",
       "       [ 11, -10,  -2,   4,   3,  -9,  -6,   7,   1],\n",
       "       [-14,   0,   4,  -3,   5,  10,  13,   7,   1],\n",
       "       [ -3,  -7,  -2,  -8,   0,  -6,  -5,  -9,   1],\n",
       "       [  5,   8,  12, -15,  12,   4,  13,   2,   1]])"
      ]
     },
     "execution_count": 12,
     "metadata": {},
     "output_type": "execute_result"
    }
   ],
   "source": [
    "X = np.concatenate([X,[X9]])\n",
    "X"
   ]
  },
  {
   "cell_type": "code",
   "execution_count": 13,
   "metadata": {},
   "outputs": [
    {
     "data": {
      "text/plain": [
       "array([ 1.,  5., 15.,  3.,  8.,  4., 17., 12.])"
      ]
     },
     "execution_count": 13,
     "metadata": {},
     "output_type": "execute_result"
    }
   ],
   "source": [
    "w"
   ]
  },
  {
   "cell_type": "code",
   "execution_count": 14,
   "metadata": {},
   "outputs": [
    {
     "data": {
      "text/plain": [
       "array([ -22.9936787 ,  -13.63688879,   55.75449095,   27.92633273,\n",
       "         19.12297171,  -17.95842237,   12.33938871,    4.31125307,\n",
       "       -133.77192697])"
      ]
     },
     "execution_count": 14,
     "metadata": {},
     "output_type": "execute_result"
    }
   ],
   "source": [
    "np.linalg.inv(X.T.dot(X)).dot(X.T).dot(y)"
   ]
  },
  {
   "cell_type": "code",
   "execution_count": 15,
   "metadata": {},
   "outputs": [
    {
     "data": {
      "text/plain": [
       "array([ -22.9936787 ,  -13.63688879,   55.75449095,   27.92633273,\n",
       "         19.12297171,  -17.95842237,   12.33938871,    4.31125307,\n",
       "       -133.77192697])"
      ]
     },
     "metadata": {},
     "output_type": "display_data"
    },
    {
     "data": {
      "text/plain": [
       "0.0"
      ]
     },
     "metadata": {},
     "output_type": "display_data"
    }
   ],
   "source": [
    "model = LinearRegression(fit_intercept=False)\n",
    "model.fit(X,y)\n",
    "display(model.coef_,model.intercept_)"
   ]
  },
  {
   "cell_type": "code",
   "execution_count": 16,
   "metadata": {},
   "outputs": [
    {
     "data": {
      "text/plain": [
       "array([-22.9936787 , -13.63688879,  55.75449095,  27.92633273,\n",
       "        19.12297171, -17.95842237,  12.33938871,   4.31125307,\n",
       "         0.        ])"
      ]
     },
     "metadata": {},
     "output_type": "display_data"
    },
    {
     "data": {
      "text/plain": [
       "-133.77192696790632"
      ]
     },
     "metadata": {},
     "output_type": "display_data"
    }
   ],
   "source": [
    "# 四舍五入，截距：12\n",
    "model = LinearRegression(fit_intercept=True)\n",
    "model.fit(X,y)\n",
    "display(model.coef_,model.intercept_)"
   ]
  },
  {
   "cell_type": "code",
   "execution_count": 17,
   "metadata": {},
   "outputs": [
    {
     "data": {
      "text/plain": [
       "array([-22.9936787 , -13.63688879,  55.75449095,  27.92633273,\n",
       "        19.12297171, -17.95842237,  12.33938871,   4.31125307])"
      ]
     },
     "metadata": {},
     "output_type": "display_data"
    },
    {
     "data": {
      "text/plain": [
       "-133.77192696790632"
      ]
     },
     "metadata": {},
     "output_type": "display_data"
    }
   ],
   "source": [
    "# 四舍五入，截距：12\n",
    "model = LinearRegression(fit_intercept=True)\n",
    "# 截距去掉！\n",
    "model.fit(X[:,:-1],y)\n",
    "display(model.coef_,model.intercept_)"
   ]
  },
  {
   "cell_type": "code",
   "execution_count": 29,
   "metadata": {},
   "outputs": [
    {
     "name": "stdout",
     "output_type": "stream",
     "text": [
      "一元一次方程真实的斜率和截距是： [1] [8]\n",
      "通过正规方程求解的斜率和截距是： [[1.]\n",
      " [8.]]\n"
     ]
    },
    {
     "data": {
      "text/plain": [
       "[<matplotlib.lines.Line2D at 0x7fbf22759550>]"
      ]
     },
     "execution_count": 29,
     "metadata": {},
     "output_type": "execute_result"
    },
    {
     "data": {
      "image/png": "[encoded data removed]",
      "text/plain": [
       "<Figure size 640x480 with 1 Axes>"
      ]
     },
     "metadata": {},
     "output_type": "display_data"
    }
   ],
   "source": [
    "import numpy as  np \n",
    "import matplotlib.pyplot as plt\n",
    "\"\"\"\n",
    "二维数组\n",
    "30\n",
    "\"\"\"\n",
    "\n",
    "X =np.linspace(0,10,num=30).reshape(-1,1)\n",
    "# 斜率和截距 随机生成\n",
    "w = np.random.randint(1,5,size=1)\n",
    "b = np.random.randint(1,10,size=1)\n",
    "\n",
    "# 根据一元一次方程计算目标值y ,并且加上“噪音” \n",
    "# 目标值y真实值\n",
    "y =X *w +b + np.random.randn(30,1)\n",
    "\n",
    "#  折线 离散图\n",
    "plt.scatter(X,y)\n",
    "\n",
    "## 重新构造X，b截距，相当于系数w0，前面统一乘以1\n",
    "\n",
    "\n",
    "X =np.concatenate([X,np.full(shape=(30,1),fill_value=1)],axis=1)\n",
    "X\n",
    "\n",
    "# 正规方程求解\n",
    "θ = np.linalg.inv(X.T.dot(X)).dot(X.T).dot(y).round(0)\n",
    "\n",
    "print('一元一次方程真实的斜率和截距是：',w, b)\n",
    "print('通过正规方程求解的斜率和截距是：',θ)\n",
    "\n",
    "plt.plot(X[:,0],X.dot(θ),color='green')"
   ]
  },
  {
   "cell_type": "code",
   "execution_count": null,
   "metadata": {},
   "outputs": [],
   "source": []
  },
  {
   "cell_type": "code",
   "execution_count": null,
   "metadata": {},
   "outputs": [],
   "source": []
  }
 ],
 "metadata": {
  "kernelspec": {
   "display_name": "Python 3 (ipykernel)",
   "language": "python",
   "name": "python3"
  },
  "language_info": {
   "codemirror_mode": {
    "name": "ipython",
    "version": 3
   },
   "file_extension": ".py",
   "mimetype": "text/x-python",
   "name": "python",
   "nbconvert_exporter": "python",
   "pygments_lexer": "ipython3",
   "version": "3.7.16"
  }
 },
 "nbformat": 4,
 "nbformat_minor": 1
}
