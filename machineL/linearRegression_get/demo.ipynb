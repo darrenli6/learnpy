{
 "cells": [
  {
   "cell_type": "code",
   "execution_count": 30,
   "metadata": {
    "collapsed": true
   },
   "outputs": [
    {
     "data": {
      "text/plain": "array([[  0,  14,   8,   0,   5,  -2,   9,  -3],\n       [ -4,  10,   6,   4, -14,  -2, -14,   8],\n       [ -1,  -6,   5, -12,   3,  -3,   2,  -2],\n       [  5,  -2,   3,  10,   5,  11,   4,  -8],\n       [-15, -15,  -8, -15,   7,  -4, -12,   2],\n       [ 11, -10,  -2,   4,   3,  -9,  -6,   7],\n       [-14,   0,   4,  -3,   5,  10,  13,   7],\n       [ -3,  -7,  -2,  -8,   0,  -6,  -5,  -9]])"
     },
     "metadata": {},
     "output_type": "display_data"
    },
    {
     "data": {
      "text/plain": "array([ 339, -114,   30,  126, -395,  -87,  422, -309])"
     },
     "metadata": {},
     "output_type": "display_data"
    }
   ],
   "source": [
    "import numpy as np\n",
    "from sklearn.linear_model import LinearRegression\n",
    "# 上面八元一次方程对应的X数据  # 对应的y [ 339 -114 30 126 -395 -87 422 -309]\n",
    "X =np.array([[ 0, 14, 8 ,0 ,5, -2, 9 ,-3],\n",
    "             [ -4, 10, 6, 4 ,-14, -2, -14, 8],\n",
    "             [ -1, -6, 5 ,-12, 3 ,-3, 2, -2],\n",
    "             [ 5, -2, 3, 10, 5 ,11 ,4 ,-8],\n",
    "             [-15, -15, -8, -15, 7 ,-4, -12, 2],\n",
    "             [ 11, -10, -2, 4, 3, -9, -6, 7],\n",
    "             [-14, 0, 4 ,-3, 5 ,10, 13, 7],\n",
    "             [ -3, -7, -2, -8, 0 ,-6, -5, -9]])\n",
    "y= np.array([339,-114,30,126,-395,-87,422,-309])\n",
    "display(X,y)"
   ]
  },
  {
   "cell_type": "code",
   "execution_count": 30,
   "outputs": [],
   "source": [],
   "metadata": {
    "collapsed": false
   }
  },
  {
   "cell_type": "code",
   "execution_count": 31,
   "outputs": [
    {
     "data": {
      "text/plain": "array([ 1.,  5., 15.,  3.,  8.,  4., 17., 12.])"
     },
     "metadata": {},
     "output_type": "display_data"
    },
    {
     "data": {
      "text/plain": "0.0"
     },
     "metadata": {},
     "output_type": "display_data"
    }
   ],
   "source": [
    "model = LinearRegression(fit_intercept=False)\n",
    "model.fit(X,y)\n",
    "display(model.coef_,model.intercept_)"
   ],
   "metadata": {
    "collapsed": false
   }
  },
  {
   "cell_type": "code",
   "execution_count": 32,
   "outputs": [
    {
     "data": {
      "text/plain": "array([ 1.,  5., 15.,  3.,  8.,  4., 17., 12.])"
     },
     "execution_count": 32,
     "metadata": {},
     "output_type": "execute_result"
    }
   ],
   "source": [
    "np.linalg.inv(X.T.dot(X)).dot(X.T).dot(y)"
   ],
   "metadata": {
    "collapsed": false
   }
  },
  {
   "cell_type": "code",
   "execution_count": 33,
   "outputs": [],
   "source": [
    "# 八元一次方程添加截距\n"
   ],
   "metadata": {
    "collapsed": false
   }
  },
  {
   "cell_type": "markdown",
   "source": [
    "$\\hat{y} = w_1X_1 + w_2X_2+.....+w_nX_n+ b$"
   ],
   "metadata": {
    "collapsed": false
   }
  },
  {
   "cell_type": "markdown",
   "source": [
    "$\\hat{y} = w_1X_1 + w_2X_2+.....+w_nX_n+ w_0 *1$"
   ],
   "metadata": {
    "collapsed": false
   }
  },
  {
   "cell_type": "code",
   "execution_count": 34,
   "outputs": [],
   "source": [
    "# 向后面增加一列\n",
    "# X=np.concatenate([X,np.full(shape=(8,1),fill_value=1)],axis=1)\n",
    "# X"
   ],
   "metadata": {
    "collapsed": false
   }
  },
  {
   "cell_type": "code",
   "execution_count": 35,
   "outputs": [
    {
     "data": {
      "text/plain": "array([ 1.,  5., 15.,  3.,  8.,  4., 17., 12.])"
     },
     "execution_count": 35,
     "metadata": {},
     "output_type": "execute_result"
    }
   ],
   "source": [
    "np.linalg.inv(X.T.dot(X)).dot(X.T).dot(y)\n"
   ],
   "metadata": {
    "collapsed": false
   }
  },
  {
   "cell_type": "code",
   "execution_count": 36,
   "outputs": [
    {
     "name": "stdout",
     "output_type": "stream",
     "text": [
      "[ 1.  5. 15.  3.  8.  4. 17. 12.] 0.0\n"
     ]
    }
   ],
   "source": [
    "model = LinearRegression(fit_intercept=False)\n",
    "model.fit(X,y)\n",
    "print(model.coef_,model.intercept_)"
   ],
   "metadata": {
    "collapsed": false
   }
  },
  {
   "cell_type": "code",
   "execution_count": 37,
   "outputs": [
    {
     "data": {
      "text/plain": "(8, 8)"
     },
     "execution_count": 37,
     "metadata": {},
     "output_type": "execute_result"
    }
   ],
   "source": [
    "X.shape"
   ],
   "metadata": {
    "collapsed": false
   }
  },
  {
   "cell_type": "code",
   "execution_count": 38,
   "outputs": [],
   "source": [
    "#增加一个方程"
   ],
   "metadata": {
    "collapsed": false
   }
  },
  {
   "cell_type": "code",
   "execution_count": 39,
   "outputs": [
    {
     "data": {
      "text/plain": "array([ 1,  5, 15,  3,  8,  4, 17, 12])"
     },
     "execution_count": 39,
     "metadata": {},
     "output_type": "execute_result"
    }
   ],
   "source": [
    "w = np.array([1,5,15,3,8,4,17,12])\n",
    "w"
   ],
   "metadata": {
    "collapsed": false
   }
  },
  {
   "cell_type": "code",
   "execution_count": 40,
   "outputs": [
    {
     "data": {
      "text/plain": "array([ 10,   9,  10,   1, -10,  10,   6, -13])"
     },
     "execution_count": 40,
     "metadata": {},
     "output_type": "execute_result"
    }
   ],
   "source": [
    "X9= np.random.randint(-15,15,size=8)\n",
    "X9"
   ],
   "metadata": {
    "collapsed": false
   }
  },
  {
   "cell_type": "code",
   "execution_count": 41,
   "outputs": [
    {
     "data": {
      "text/plain": "array([ 10,   9,  10,   1, -10,  10,   6, -13,   1])"
     },
     "execution_count": 41,
     "metadata": {},
     "output_type": "execute_result"
    }
   ],
   "source": [
    "X9.dot(w)+12\n",
    "\n",
    "y =np.concatenate([y,[-283]])\n",
    "y\n",
    "X9=np.concatenate([X9,[1]])\n",
    "X9"
   ],
   "metadata": {
    "collapsed": false
   }
  },
  {
   "cell_type": "code",
   "execution_count": 42,
   "outputs": [
    {
     "data": {
      "text/plain": "array([[  0,  14,   8,   0,   5,  -2,   9,  -3],\n       [ -4,  10,   6,   4, -14,  -2, -14,   8],\n       [ -1,  -6,   5, -12,   3,  -3,   2,  -2],\n       [  5,  -2,   3,  10,   5,  11,   4,  -8],\n       [-15, -15,  -8, -15,   7,  -4, -12,   2],\n       [ 11, -10,  -2,   4,   3,  -9,  -6,   7],\n       [-14,   0,   4,  -3,   5,  10,  13,   7],\n       [ -3,  -7,  -2,  -8,   0,  -6,  -5,  -9]])"
     },
     "execution_count": 42,
     "metadata": {},
     "output_type": "execute_result"
    }
   ],
   "source": [
    "# np.concatenate([X,[X9]])\n",
    "X"
   ],
   "metadata": {
    "collapsed": false
   }
  },
  {
   "cell_type": "code",
   "execution_count": 42,
   "outputs": [],
   "source": [],
   "metadata": {
    "collapsed": false
   }
  }
 ],
 "metadata": {
  "kernelspec": {
   "display_name": "Python 3",
   "language": "python",
   "name": "python3"
  },
  "language_info": {
   "codemirror_mode": {
    "name": "ipython",
    "version": 2
   },
   "file_extension": ".py",
   "mimetype": "text/x-python",
   "name": "python",
   "nbconvert_exporter": "python",
   "pygments_lexer": "ipython2",
   "version": "2.7.6"
  }
 },
 "nbformat": 4,
 "nbformat_minor": 0
}
