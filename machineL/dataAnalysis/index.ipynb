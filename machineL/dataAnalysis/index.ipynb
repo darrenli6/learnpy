{
 "cells": [
  {
   "cell_type": "markdown",
   "metadata": {},
   "source": [
    "# 分析指标\n",
    "- 各城市对数据分析岗位的需求情况\n",
    "- 不同细分领域对数据分析岗的需求情况\n",
    "- 数据分析岗位的薪资状况\n",
    "- 工作经验与薪水的关系\n",
    "- 技能要求\n",
    "- 大公司都要求什么掌握什么技能\n",
    "- 岗位的学历要求高吗\n",
    "- 不同规模的企业对工资经验的要求以及提供的薪资水平"
   ]
  },
  {
   "cell_type": "code",
   "execution_count": 1,
   "metadata": {},
   "outputs": [
    {
     "data": {
      "text/plain": "(3140, 52)"
     },
     "metadata": {},
     "output_type": "display_data"
    },
    {
     "data": {
      "text/plain": "array(['北京', '上海', '深圳', '广州', '杭州', '成都', '南京', '武汉', '西安', '厦门', '长沙',\n       '苏州', '天津'], dtype=object)"
     },
     "metadata": {},
     "output_type": "display_data"
    },
    {
     "data": {
      "text/plain": "  positionName companyShortName city companySize education financeStage  \\\n0        数据分析岗          达达-京东到家   北京     2000人以上        本科        D轮及以上   \n1         数据分析             音娱时光   北京     50-150人        本科           A轮   \n2         数据分析              千喜鹤   北京     2000人以上        本科          未融资   \n3         数据分析    吉林省海生电子商务有限公司   北京       少于15人        本科        不需要融资   \n4         数据分析             WPIC   北京     50-150人        本科          未融资   \n\n  industryField   salary workYear                  companyLabelList  \\\n0          消费生活  15k-30k     3-5年  ['年底双薪', '绩效奖金', '岗位晋升', '定期体检']   \n1         移动互联网  10k-18k     1-3年  ['年底双薪', '绩效奖金', '带薪年假', '免费健身']   \n2          消费生活  20k-30k     3-5年                                []   \n3            电商  33k-50k     3-5年                                []   \n4       电商,软件开发  10k-15k     1-3年                                []   \n\n                                          job_detail  \n0  1 、负责o2o电商日常运营数据的统计, 监控, 梳理指标体系；||2、基于海量用户行为数据...  \n1  职责描述：||1.     完善业务数据监控体系，进行新功能指标埋点逻辑设计，搭建分析框架，...  \n2  工作职责：||1.负责根据业务目标，制定并执行产品或业务的运营数据监控与分析机制。||2.完...  \n3  1.基于对业务的支持和理解，搭建出可以准确反映业务运作状况的数据指标体系；||2.商业嗅觉灵...  \n4  职责描述：||1. 调研工作以客户需求为主导；||2. 根据市场调研计划，进行市场信息的收集...  ",
      "text/html": "<div>\n<style scoped>\n    .dataframe tbody tr th:only-of-type {\n        vertical-align: middle;\n    }\n\n    .dataframe tbody tr th {\n        vertical-align: top;\n    }\n\n    .dataframe thead th {\n        text-align: right;\n    }\n</style>\n<table border=\"1\" class=\"dataframe\">\n  <thead>\n    <tr style=\"text-align: right;\">\n      <th></th>\n      <th>positionName</th>\n      <th>companyShortName</th>\n      <th>city</th>\n      <th>companySize</th>\n      <th>education</th>\n      <th>financeStage</th>\n      <th>industryField</th>\n      <th>salary</th>\n      <th>workYear</th>\n      <th>companyLabelList</th>\n      <th>job_detail</th>\n    </tr>\n  </thead>\n  <tbody>\n    <tr>\n      <th>0</th>\n      <td>数据分析岗</td>\n      <td>达达-京东到家</td>\n      <td>北京</td>\n      <td>2000人以上</td>\n      <td>本科</td>\n      <td>D轮及以上</td>\n      <td>消费生活</td>\n      <td>15k-30k</td>\n      <td>3-5年</td>\n      <td>['年底双薪', '绩效奖金', '岗位晋升', '定期体检']</td>\n      <td>1 、负责o2o电商日常运营数据的统计, 监控, 梳理指标体系；||2、基于海量用户行为数据...</td>\n    </tr>\n    <tr>\n      <th>1</th>\n      <td>数据分析</td>\n      <td>音娱时光</td>\n      <td>北京</td>\n      <td>50-150人</td>\n      <td>本科</td>\n      <td>A轮</td>\n      <td>移动互联网</td>\n      <td>10k-18k</td>\n      <td>1-3年</td>\n      <td>['年底双薪', '绩效奖金', '带薪年假', '免费健身']</td>\n      <td>职责描述：||1.     完善业务数据监控体系，进行新功能指标埋点逻辑设计，搭建分析框架，...</td>\n    </tr>\n    <tr>\n      <th>2</th>\n      <td>数据分析</td>\n      <td>千喜鹤</td>\n      <td>北京</td>\n      <td>2000人以上</td>\n      <td>本科</td>\n      <td>未融资</td>\n      <td>消费生活</td>\n      <td>20k-30k</td>\n      <td>3-5年</td>\n      <td>[]</td>\n      <td>工作职责：||1.负责根据业务目标，制定并执行产品或业务的运营数据监控与分析机制。||2.完...</td>\n    </tr>\n    <tr>\n      <th>3</th>\n      <td>数据分析</td>\n      <td>吉林省海生电子商务有限公司</td>\n      <td>北京</td>\n      <td>少于15人</td>\n      <td>本科</td>\n      <td>不需要融资</td>\n      <td>电商</td>\n      <td>33k-50k</td>\n      <td>3-5年</td>\n      <td>[]</td>\n      <td>1.基于对业务的支持和理解，搭建出可以准确反映业务运作状况的数据指标体系；||2.商业嗅觉灵...</td>\n    </tr>\n    <tr>\n      <th>4</th>\n      <td>数据分析</td>\n      <td>WPIC</td>\n      <td>北京</td>\n      <td>50-150人</td>\n      <td>本科</td>\n      <td>未融资</td>\n      <td>电商,软件开发</td>\n      <td>10k-15k</td>\n      <td>1-3年</td>\n      <td>[]</td>\n      <td>职责描述：||1. 调研工作以客户需求为主导；||2. 根据市场调研计划，进行市场信息的收集...</td>\n    </tr>\n  </tbody>\n</table>\n</div>"
     },
     "execution_count": 1,
     "metadata": {},
     "output_type": "execute_result"
    }
   ],
   "source": [
    "import pandas as pd\n",
    "import numpy as np\n",
    "import matplotlib.pyplot as plt\n",
    "job = pd.read_csv(\"./job.csv\")\n",
    "\n",
    "display(job.shape,job[\"city\"].unique())\n",
    "\n",
    "# 取出我们进行后续分析所需的字段\n",
    "columns = [\"positionName\", \"companyShortName\", \"city\", \"companySize\", \"education\", \"financeStage\",\n",
    "           \"industryField\", \"salary\", \"workYear\",\"companyLabelList\", \"job_detail\"]\n",
    "job = job[columns].drop_duplicates()\n",
    "# display(job.shape,job.head)\n",
    "\n",
    "job.head()\n"
   ]
  },
  {
   "cell_type": "code",
   "execution_count": 2,
   "metadata": {},
   "outputs": [
    {
     "data": {
      "text/plain": "  positionName companyShortName city companySize education financeStage  \\\n0        数据分析岗          达达-京东到家   北京     2000人以上        本科        D轮及以上   \n1         数据分析             音娱时光   北京     50-150人        本科           A轮   \n2         数据分析              千喜鹤   北京     2000人以上        本科          未融资   \n3         数据分析    吉林省海生电子商务有限公司   北京       少于15人        本科        不需要融资   \n4         数据分析             WPIC   北京     50-150人        本科          未融资   \n\n  industryField  salary workYear                  companyLabelList  \\\n0          消费生活    22.5     3-5年  ['年底双薪', '绩效奖金', '岗位晋升', '定期体检']   \n1         移动互联网    14.0     1-3年  ['年底双薪', '绩效奖金', '带薪年假', '免费健身']   \n2          消费生活    25.0     3-5年                                []   \n3            电商    41.5     3-5年                                []   \n4       电商,软件开发    12.5     1-3年                                []   \n\n                                          job_detail  \n0  1 、负责o2o电商日常运营数据的统计, 监控, 梳理指标体系；||2、基于海量用户行为数据...  \n1  职责描述：||1.     完善业务数据监控体系，进行新功能指标埋点逻辑设计，搭建分析框架，...  \n2  工作职责：||1.负责根据业务目标，制定并执行产品或业务的运营数据监控与分析机制。||2.完...  \n3  1.基于对业务的支持和理解，搭建出可以准确反映业务运作状况的数据指标体系；||2.商业嗅觉灵...  \n4  职责描述：||1. 调研工作以客户需求为主导；||2. 根据市场调研计划，进行市场信息的收集...  ",
      "text/html": "<div>\n<style scoped>\n    .dataframe tbody tr th:only-of-type {\n        vertical-align: middle;\n    }\n\n    .dataframe tbody tr th {\n        vertical-align: top;\n    }\n\n    .dataframe thead th {\n        text-align: right;\n    }\n</style>\n<table border=\"1\" class=\"dataframe\">\n  <thead>\n    <tr style=\"text-align: right;\">\n      <th></th>\n      <th>positionName</th>\n      <th>companyShortName</th>\n      <th>city</th>\n      <th>companySize</th>\n      <th>education</th>\n      <th>financeStage</th>\n      <th>industryField</th>\n      <th>salary</th>\n      <th>workYear</th>\n      <th>companyLabelList</th>\n      <th>job_detail</th>\n    </tr>\n  </thead>\n  <tbody>\n    <tr>\n      <th>0</th>\n      <td>数据分析岗</td>\n      <td>达达-京东到家</td>\n      <td>北京</td>\n      <td>2000人以上</td>\n      <td>本科</td>\n      <td>D轮及以上</td>\n      <td>消费生活</td>\n      <td>22.5</td>\n      <td>3-5年</td>\n      <td>['年底双薪', '绩效奖金', '岗位晋升', '定期体检']</td>\n      <td>1 、负责o2o电商日常运营数据的统计, 监控, 梳理指标体系；||2、基于海量用户行为数据...</td>\n    </tr>\n    <tr>\n      <th>1</th>\n      <td>数据分析</td>\n      <td>音娱时光</td>\n      <td>北京</td>\n      <td>50-150人</td>\n      <td>本科</td>\n      <td>A轮</td>\n      <td>移动互联网</td>\n      <td>14.0</td>\n      <td>1-3年</td>\n      <td>['年底双薪', '绩效奖金', '带薪年假', '免费健身']</td>\n      <td>职责描述：||1.     完善业务数据监控体系，进行新功能指标埋点逻辑设计，搭建分析框架，...</td>\n    </tr>\n    <tr>\n      <th>2</th>\n      <td>数据分析</td>\n      <td>千喜鹤</td>\n      <td>北京</td>\n      <td>2000人以上</td>\n      <td>本科</td>\n      <td>未融资</td>\n      <td>消费生活</td>\n      <td>25.0</td>\n      <td>3-5年</td>\n      <td>[]</td>\n      <td>工作职责：||1.负责根据业务目标，制定并执行产品或业务的运营数据监控与分析机制。||2.完...</td>\n    </tr>\n    <tr>\n      <th>3</th>\n      <td>数据分析</td>\n      <td>吉林省海生电子商务有限公司</td>\n      <td>北京</td>\n      <td>少于15人</td>\n      <td>本科</td>\n      <td>不需要融资</td>\n      <td>电商</td>\n      <td>41.5</td>\n      <td>3-5年</td>\n      <td>[]</td>\n      <td>1.基于对业务的支持和理解，搭建出可以准确反映业务运作状况的数据指标体系；||2.商业嗅觉灵...</td>\n    </tr>\n    <tr>\n      <th>4</th>\n      <td>数据分析</td>\n      <td>WPIC</td>\n      <td>北京</td>\n      <td>50-150人</td>\n      <td>本科</td>\n      <td>未融资</td>\n      <td>电商,软件开发</td>\n      <td>12.5</td>\n      <td>1-3年</td>\n      <td>[]</td>\n      <td>职责描述：||1. 调研工作以客户需求为主导；||2. 根据市场调研计划，进行市场信息的收集...</td>\n    </tr>\n  </tbody>\n</table>\n</div>"
     },
     "execution_count": 2,
     "metadata": {},
     "output_type": "execute_result"
    }
   ],
   "source": [
    "#去除非数据分析岗的数据\n",
    "cond =job[\"positionName\"].str.contains(\"数据分析\")\n",
    "job = job[cond]\n",
    "job\n",
    "# 将薪水转化为数值\n",
    "import re \n",
    "s = \"15k-30k\"\n",
    "re.findall(r'(\\d+)[k]-(\\d+)[k]',s)\n",
    "\n",
    "# 处理过程\n",
    "\"\"\"\n",
    " 1 将salary 转化为小写\n",
    " 2. 运用正则表达式提取出薪资区间\n",
    " 3. 将提取的薪资区间转化为int\n",
    " 4. 取区间的平均值\n",
    "\"\"\"\n",
    "job[\"salary\"] = job[\"salary\"].str.lower()\\\n",
    "               .str.extract(r'(\\d+)[k]-(\\d+)k')\\\n",
    "               .applymap(lambda x:int(x))\\\n",
    "               .mean(axis=1)\n",
    "job.head()"
   ]
  },
  {
   "cell_type": "code",
   "execution_count": 3,
   "metadata": {},
   "outputs": [
    {
     "data": {
      "text/plain": "  positionName companyShortName city companySize education financeStage  \\\n0        数据分析岗          达达-京东到家   北京     2000人以上        本科        D轮及以上   \n1         数据分析             音娱时光   北京     50-150人        本科           A轮   \n2         数据分析              千喜鹤   北京     2000人以上        本科          未融资   \n3         数据分析    吉林省海生电子商务有限公司   北京       少于15人        本科        不需要融资   \n4         数据分析             WPIC   北京     50-150人        本科          未融资   \n\n  industryField  salary workYear                  companyLabelList  \\\n0          消费生活    22.5     3-5年  ['年底双薪', '绩效奖金', '岗位晋升', '定期体检']   \n1         移动互联网    14.0     1-3年  ['年底双薪', '绩效奖金', '带薪年假', '免费健身']   \n2          消费生活    25.0     3-5年                                []   \n3            电商    41.5     3-5年                                []   \n4       电商,软件开发    12.5     1-3年                                []   \n\n                                          job_detail  Python  SQL  Tableau  \\\n0  1 、负责o2o电商日常运营数据的统计, 监控, 梳理指标体系；||2、基于海量用户行为数据...       1    1        0   \n1  职责描述：||1.     完善业务数据监控体系，进行新功能指标埋点逻辑设计，搭建分析框架，...       0    1        0   \n2  工作职责：||1.负责根据业务目标，制定并执行产品或业务的运营数据监控与分析机制。||2.完...       1    1        0   \n3  1.基于对业务的支持和理解，搭建出可以准确反映业务运作状况的数据指标体系；||2.商业嗅觉灵...       1    1        0   \n4  职责描述：||1. 调研工作以客户需求为主导；||2. 根据市场调研计划，进行市场信息的收集...       0    0        0   \n\n   Excel  SPSS/SAS  \n0      1         0  \n1      1         1  \n2      0         0  \n3      0         1  \n4      0         0  ",
      "text/html": "<div>\n<style scoped>\n    .dataframe tbody tr th:only-of-type {\n        vertical-align: middle;\n    }\n\n    .dataframe tbody tr th {\n        vertical-align: top;\n    }\n\n    .dataframe thead th {\n        text-align: right;\n    }\n</style>\n<table border=\"1\" class=\"dataframe\">\n  <thead>\n    <tr style=\"text-align: right;\">\n      <th></th>\n      <th>positionName</th>\n      <th>companyShortName</th>\n      <th>city</th>\n      <th>companySize</th>\n      <th>education</th>\n      <th>financeStage</th>\n      <th>industryField</th>\n      <th>salary</th>\n      <th>workYear</th>\n      <th>companyLabelList</th>\n      <th>job_detail</th>\n      <th>Python</th>\n      <th>SQL</th>\n      <th>Tableau</th>\n      <th>Excel</th>\n      <th>SPSS/SAS</th>\n    </tr>\n  </thead>\n  <tbody>\n    <tr>\n      <th>0</th>\n      <td>数据分析岗</td>\n      <td>达达-京东到家</td>\n      <td>北京</td>\n      <td>2000人以上</td>\n      <td>本科</td>\n      <td>D轮及以上</td>\n      <td>消费生活</td>\n      <td>22.5</td>\n      <td>3-5年</td>\n      <td>['年底双薪', '绩效奖金', '岗位晋升', '定期体检']</td>\n      <td>1 、负责o2o电商日常运营数据的统计, 监控, 梳理指标体系；||2、基于海量用户行为数据...</td>\n      <td>1</td>\n      <td>1</td>\n      <td>0</td>\n      <td>1</td>\n      <td>0</td>\n    </tr>\n    <tr>\n      <th>1</th>\n      <td>数据分析</td>\n      <td>音娱时光</td>\n      <td>北京</td>\n      <td>50-150人</td>\n      <td>本科</td>\n      <td>A轮</td>\n      <td>移动互联网</td>\n      <td>14.0</td>\n      <td>1-3年</td>\n      <td>['年底双薪', '绩效奖金', '带薪年假', '免费健身']</td>\n      <td>职责描述：||1.     完善业务数据监控体系，进行新功能指标埋点逻辑设计，搭建分析框架，...</td>\n      <td>0</td>\n      <td>1</td>\n      <td>0</td>\n      <td>1</td>\n      <td>1</td>\n    </tr>\n    <tr>\n      <th>2</th>\n      <td>数据分析</td>\n      <td>千喜鹤</td>\n      <td>北京</td>\n      <td>2000人以上</td>\n      <td>本科</td>\n      <td>未融资</td>\n      <td>消费生活</td>\n      <td>25.0</td>\n      <td>3-5年</td>\n      <td>[]</td>\n      <td>工作职责：||1.负责根据业务目标，制定并执行产品或业务的运营数据监控与分析机制。||2.完...</td>\n      <td>1</td>\n      <td>1</td>\n      <td>0</td>\n      <td>0</td>\n      <td>0</td>\n    </tr>\n    <tr>\n      <th>3</th>\n      <td>数据分析</td>\n      <td>吉林省海生电子商务有限公司</td>\n      <td>北京</td>\n      <td>少于15人</td>\n      <td>本科</td>\n      <td>不需要融资</td>\n      <td>电商</td>\n      <td>41.5</td>\n      <td>3-5年</td>\n      <td>[]</td>\n      <td>1.基于对业务的支持和理解，搭建出可以准确反映业务运作状况的数据指标体系；||2.商业嗅觉灵...</td>\n      <td>1</td>\n      <td>1</td>\n      <td>0</td>\n      <td>0</td>\n      <td>1</td>\n    </tr>\n    <tr>\n      <th>4</th>\n      <td>数据分析</td>\n      <td>WPIC</td>\n      <td>北京</td>\n      <td>50-150人</td>\n      <td>本科</td>\n      <td>未融资</td>\n      <td>电商,软件开发</td>\n      <td>12.5</td>\n      <td>1-3年</td>\n      <td>[]</td>\n      <td>职责描述：||1. 调研工作以客户需求为主导；||2. 根据市场调研计划，进行市场信息的收集...</td>\n      <td>0</td>\n      <td>0</td>\n      <td>0</td>\n      <td>0</td>\n      <td>0</td>\n    </tr>\n  </tbody>\n</table>\n</div>"
     },
     "execution_count": 3,
     "metadata": {},
     "output_type": "execute_result"
    }
   ],
   "source": [
    "\n",
    "# 从job_detail 提取技能要求\n",
    "\"\"\"\n",
    "将技能分为以下几类：\n",
    "python/R\n",
    "\n",
    "SQL \n",
    "\n",
    "Excel \n",
    "SPSS SAS\n",
    "\"\"\"\n",
    "job[\"job_detail\"] = job[\"job_detail\"].str.lower().fillna(\"\")\n",
    "\n",
    "job[\"Python\"] = job[\"job_detail\"].map(lambda x:1 if (\"python\" in x.lower())  else 0)\n",
    "job[\"SQL\"] = job[\"job_detail\"].map(lambda x:1 if ('sql' in x) or ('hive' in x)  else 0)\n",
    "job[\"Tableau\"] = job[\"job_detail\"].map(lambda x:1 if 'tableau' in x  else 0)\n",
    "job[\"Excel\"] = job[\"job_detail\"].map(lambda x:1 if 'excel' in x  else 0)\n",
    "job['SPSS/SAS'] = job['job_detail'].map(lambda x:1 if ('spss' in x) or ('sas' in x) else 0)\n",
    "job.head()\n"
   ]
  },
  {
   "cell_type": "code",
   "execution_count": 4,
   "metadata": {},
   "outputs": [
    {
     "data": {
      "text/plain": "0        消费生活\n1       移动互联网\n2        消费生活\n3          电商\n4          电商\n        ...  \n3065    文娱丨内容\n3069    医疗丨健康\n3070    医疗丨健康\n3071     企业服务\n3088     软件开发\nName: industryField, Length: 1404, dtype: object"
     },
     "execution_count": 4,
     "metadata": {},
     "output_type": "execute_result"
    }
   ],
   "source": [
    "# 处理行业信息\n",
    "\n",
    "def clean_industry(industry):\n",
    "    industry = industry.split(\",\") # 拆分\n",
    "    if industry[0]==\"移动互联网\" and len(industry) >1 :\n",
    "        return  industry[1]\n",
    "    else:\n",
    "        return industry[0]\n",
    "\n",
    "\n",
    "job[\"industryField\"] = job.industryField.map(clean_industry)\n",
    "\n",
    "job[\"industryField\"]\n"
   ]
  },
  {
   "cell_type": "code",
   "execution_count": 4,
   "metadata": {},
   "outputs": [],
   "source": []
  }
 ],
 "metadata": {
  "kernelspec": {
   "display_name": "Python 3 (ipykernel)",
   "language": "python",
   "name": "python3"
  },
  "language_info": {
   "codemirror_mode": {
    "name": "ipython",
    "version": 3
   },
   "file_extension": ".py",
   "mimetype": "text/x-python",
   "name": "python",
   "nbconvert_exporter": "python",
   "pygments_lexer": "ipython3",
   "version": "3.7.16"
  }
 },
 "nbformat": 4,
 "nbformat_minor": 1
}
